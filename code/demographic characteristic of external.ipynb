{
 "cells": [
  {
   "cell_type": "code",
   "execution_count": 33,
   "id": "5ac56057",
   "metadata": {},
   "outputs": [],
   "source": [
    "import numpy as np\n",
    "import pandas as pd\n",
    "from sklearn.metrics import roc_auc_score, roc_curve, confusion_matrix\n",
    "import statsmodels.api as sm\n",
    "from scipy.stats import norm\n",
    "import seaborn as sns\n",
    "import matplotlib.pyplot as plt\n",
    "from scipy import stats\n",
    "from scipy.stats import pointbiserialr, spearmanr, chi2_contingency, shapiro\n",
    "\n",
    "\n",
    "file_path = 'External_Dataset.csv'\n",
    "data = pd.read_csv(file_path)"
   ]
  },
  {
   "cell_type": "code",
   "execution_count": 34,
   "id": "691528ed",
   "metadata": {},
   "outputs": [],
   "source": [
    "# 分组\n",
    "groups = data.groupby('group')\n",
    "# 分类数据和连续数据\n",
    "columns_to_analyzes = ['age', 'HAMD', 'HAMA', 'SDS', 'PHQ', 'height', 'weight', 'BMI','prediction_score']\n",
    "categorical_columns = ['nation', 'gender', 'marriage', 'smoking', 'drinking', 'family']"
   ]
  },
  {
   "cell_type": "code",
   "execution_count": 35,
   "id": "55fc294a",
   "metadata": {},
   "outputs": [
    {
     "name": "stdout",
     "output_type": "stream",
     "text": [
      "age:Statistics=0.911, p=0.000,不是正态分布 (拒绝H0)\n",
      "hamd17:Statistics=0.976, p=0.132,正态分布 (接受H0)\n",
      "HAMA:Statistics=0.985, p=0.473,正态分布 (接受H0)\n",
      "SDS:Statistics=0.969, p=0.047,不是正态分布 (拒绝H0)\n",
      "PHQ:Statistics=0.977, p=0.168,正态分布 (接受H0)\n",
      "height:Statistics=0.982, p=0.301,正态分布 (接受H0)\n",
      "weight:Statistics=0.960, p=0.013,不是正态分布 (拒绝H0)\n",
      "BMI:Statistics=0.983, p=0.359,正态分布 (接受H0)\n",
      "prediction_score:Statistics=0.910, p=0.000,不是正态分布 (拒绝H0)\n"
     ]
    }
   ],
   "source": [
    "depressed_data = data[data['group'] == 'depressed']\n",
    "healthy_data = data[data['group'] == 'healthy']\n",
    "for columns_to_analyze in columns_to_analyzes:\n",
    "    # 从DataFrame中提取特定特征的数据\n",
    "    feature_data = depressed_data[columns_to_analyze]\n",
    "    # 进行Shapiro-Wilk正态性检验\n",
    "    stat, p = shapiro(feature_data)\n",
    "    alpha = 0.05\n",
    "    if p > alpha:\n",
    "        print(f'{columns_to_analyze}:Statistics={stat:.3f}, p={p:.3f},正态分布 (接受H0)')\n",
    "    else:\n",
    "        print(f'{columns_to_analyze}:Statistics={stat:.3f}, p={p:.3f},不是正态分布 (拒绝H0)')"
   ]
  },
  {
   "cell_type": "code",
   "execution_count": 36,
   "id": "d95999eb",
   "metadata": {},
   "outputs": [
    {
     "name": "stdout",
     "output_type": "stream",
     "text": [
      "age:Statistics=0.691, p=0.000,不是正态分布 (拒绝H0)\n",
      "hamd17:Statistics=0.850, p=0.000,不是正态分布 (拒绝H0)\n",
      "HAMA:Statistics=0.647, p=0.000,不是正态分布 (拒绝H0)\n",
      "SDS:Statistics=0.950, p=0.004,不是正态分布 (拒绝H0)\n",
      "PHQ:Statistics=0.886, p=0.000,不是正态分布 (拒绝H0)\n",
      "height:Statistics=0.957, p=0.009,不是正态分布 (拒绝H0)\n",
      "weight:Statistics=0.919, p=0.000,不是正态分布 (拒绝H0)\n",
      "BMI:Statistics=0.942, p=0.001,不是正态分布 (拒绝H0)\n",
      "prediction_score:Statistics=0.931, p=0.000,不是正态分布 (拒绝H0)\n"
     ]
    }
   ],
   "source": [
    "for columns_to_analyze in columns_to_analyzes:\n",
    "    # 从DataFrame中提取特定特征的数据\n",
    "    feature_data = healthy_data[columns_to_analyze]\n",
    "    # 进行Shapiro-Wilk正态性检验\n",
    "    stat, p = shapiro(feature_data)\n",
    "    alpha = 0.05\n",
    "    if p > alpha:\n",
    "        print(f'{columns_to_analyze}:Statistics={stat:.3f}, p={p:.3f},正态分布 (接受H0)')\n",
    "    else:\n",
    "        print(f'{columns_to_analyze}:Statistics={stat:.3f}, p={p:.3f},不是正态分布 (拒绝H0)')"
   ]
  },
  {
   "cell_type": "code",
   "execution_count": 37,
   "id": "95ef8941",
   "metadata": {},
   "outputs": [
    {
     "name": "stdout",
     "output_type": "stream",
     "text": [
      "\n",
      "depressed Group Statistics:\n",
      "age: mean=32.288, std=11.986, median=29.000, 25%-75%=[23.   37.75]\n",
      "hamd17: mean=19.938, std=4.610, median=20.000, 25%-75%=[16. 23.]\n",
      "HAMA: mean=20.438, std=5.621, median=20.500, 25%-75%=[16.75 23.25]\n",
      "SDS: mean=56.950, std=8.431, median=57.000, 25%-75%=[52. 63.]\n",
      "PHQ: mean=17.462, std=4.888, median=17.500, 25%-75%=[13.75 22.  ]\n",
      "height: mean=166.950, std=7.650, median=166.000, 25%-75%=[162.   171.25]\n",
      "weight: mean=62.425, std=12.635, median=60.000, 25%-75%=[53.75 70.  ]\n",
      "BMI: mean=22.308, std=3.682, median=22.130, 25%-75%=[19.4425 24.8625]\n",
      "prediction_score: mean=0.690, std=0.235, median=0.720, 25%-75%=[0.59585011 0.87308854]\n",
      "\n",
      "healthy Group Statistics:\n",
      "age: mean=24.113, std=7.821, median=21.000, 25%-75%=[20. 27.]\n",
      "hamd17: mean=2.475, std=2.595, median=2.000, 25%-75%=[0. 4.]\n",
      "HAMA: mean=1.850, std=3.069, median=1.000, 25%-75%=[0. 3.]\n",
      "SDS: mean=36.400, std=9.098, median=35.500, 25%-75%=[28.75 43.  ]\n",
      "PHQ: mean=4.362, std=4.101, median=3.000, 25%-75%=[1. 7.]\n",
      "height: mean=171.050, std=9.531, median=170.000, 25%-75%=[164. 180.]\n",
      "weight: mean=65.700, std=18.202, median=61.500, 25%-75%=[53.   74.25]\n",
      "BMI: mean=22.331, std=5.249, median=22.070, 25%-75%=[18.9125 24.6775]\n",
      "prediction_score: mean=0.302, std=0.222, median=0.262, 25%-75%=[0.11277224 0.45558665]\n"
     ]
    }
   ],
   "source": [
    "# 3. 计算 mean, std, 中位数, 25%-75% 区间\n",
    "for group_name, group_data in groups:\n",
    "    print(f\"\\n{group_name} Group Statistics:\")\n",
    "    for columns_to_analyze in columns_to_analyzes:\n",
    "        column_data = group_data[columns_to_analyze].dropna()\n",
    "        print(f\"{columns_to_analyze}: mean={column_data.mean():.3f}, std={column_data.std():.3f}, median={column_data.median():.3f}, 25%-75%={np.percentile(column_data, [25, 75])}\")"
   ]
  },
  {
   "cell_type": "code",
   "execution_count": 38,
   "id": "489dd109",
   "metadata": {},
   "outputs": [
    {
     "name": "stdout",
     "output_type": "stream",
     "text": [
      "age t-test: t=5.109, p=0.000\n",
      "hamd17 t-test: t=29.526, p=0.000\n",
      "HAMA t-test: t=25.961, p=0.000\n",
      "SDS t-test: t=14.818, p=0.000\n",
      "PHQ t-test: t=18.363, p=0.000\n",
      "height t-test: t=-3.001, p=0.003\n",
      "weight t-test: t=-1.322, p=0.188\n",
      "BMI t-test: t=-0.033, p=0.974\n",
      "prediction_score t-test: t=10.710, p=0.000\n"
     ]
    }
   ],
   "source": [
    "# t检验\n",
    "for columns_to_analyze in columns_to_analyzes:\n",
    "    t_stat, p_val = stats.ttest_ind(groups.get_group('depressed')[columns_to_analyze].dropna(),\n",
    "                                    groups.get_group('healthy')[columns_to_analyze].dropna(), equal_var=False)\n",
    "    print(f\"{columns_to_analyze} t-test: t={t_stat:.3f}, p={p_val:.3f}\")"
   ]
  },
  {
   "cell_type": "code",
   "execution_count": 39,
   "id": "69535aca",
   "metadata": {},
   "outputs": [
    {
     "name": "stdout",
     "output_type": "stream",
     "text": [
      "age Mann-Whitney U test: U=4610.000, p=0.000\n",
      "hamd17 Mann-Whitney U test: U=6399.500, p=0.000\n",
      "HAMA Mann-Whitney U test: U=6366.500, p=0.000\n",
      "SDS Mann-Whitney U test: U=6047.000, p=0.000\n",
      "PHQ Mann-Whitney U test: U=6216.000, p=0.000\n",
      "height Mann-Whitney U test: U=2462.000, p=0.012\n",
      "weight Mann-Whitney U test: U=2931.500, p=0.360\n",
      "BMI Mann-Whitney U test: U=3309.000, p=0.711\n",
      "prediction_score Mann-Whitney U test: U=5563.000, p=0.000\n"
     ]
    }
   ],
   "source": [
    "# Mann-Whitney U 检验\n",
    "for columns_to_analyze in columns_to_analyzes:\n",
    "    u_stat, p_val = stats.mannwhitneyu(groups.get_group('depressed')[columns_to_analyze].dropna(),\n",
    "                                       groups.get_group('healthy')[columns_to_analyze].dropna())\n",
    "    print(f\"{columns_to_analyze} Mann-Whitney U test: U={u_stat:.3f}, p={p_val:.3f}\")\n"
   ]
  },
  {
   "cell_type": "code",
   "execution_count": 40,
   "id": "42f5ac03",
   "metadata": {},
   "outputs": [
    {
     "name": "stdout",
     "output_type": "stream",
     "text": [
      "        group    column value count\n",
      "0   depressed    nation     1    75\n",
      "1   depressed    nation     2     5\n",
      "2   depressed    gender     2    53\n",
      "3   depressed    gender     1    27\n",
      "4   depressed  marriage     0    42\n",
      "5   depressed  marriage     1    38\n",
      "6   depressed   smoking     0    60\n",
      "7   depressed   smoking     1    20\n",
      "8   depressed  drinking     0    62\n",
      "9   depressed  drinking     1    18\n",
      "10  depressed    family     0    64\n",
      "11  depressed    family     1    16\n",
      "12    healthy    nation     1    66\n",
      "13    healthy    nation     2    14\n",
      "14    healthy    gender     2    42\n",
      "15    healthy    gender     1    38\n",
      "16    healthy  marriage     0    66\n",
      "17    healthy  marriage     1    14\n",
      "18    healthy   smoking     0    67\n",
      "19    healthy   smoking     1    13\n",
      "20    healthy  drinking     0    63\n",
      "21    healthy  drinking     1    17\n",
      "22    healthy    family     0    80\n"
     ]
    }
   ],
   "source": [
    "results = pd.DataFrame(columns=['group', 'column', 'value', 'count'])\n",
    "\n",
    "# 统计不同组中分类变量中0和1的个数\n",
    "for group_name, group_data in groups:\n",
    "    for column in categorical_columns:\n",
    "        counts = group_data[column].value_counts().reset_index()\n",
    "        counts.columns = ['value', 'count']\n",
    "        counts['group'] = group_name\n",
    "        counts['column'] = column\n",
    "        results = pd.concat([results, counts], ignore_index=True)\n",
    "\n",
    "# 打印结果\n",
    "print(results)"
   ]
  },
  {
   "cell_type": "code",
   "execution_count": 41,
   "id": "d7be86ab",
   "metadata": {},
   "outputs": [
    {
     "name": "stdout",
     "output_type": "stream",
     "text": [
      "     column       chi2   p-value dof                      expected\n",
      "0    nation   3.822322  0.050574   1    [[70.5, 9.5], [70.5, 9.5]]\n",
      "1    gender   2.591093  0.107466   1  [[32.5, 47.5], [32.5, 47.5]]\n",
      "2  marriage  15.071225  0.000104   1  [[54.0, 26.0], [54.0, 26.0]]\n",
      "3   smoking   1.374374  0.241062   1  [[63.5, 16.5], [63.5, 16.5]]\n",
      "4  drinking   0.000000  1.000000   1  [[62.5, 17.5], [62.5, 17.5]]\n",
      "5    family  15.625000  0.000077   1    [[72.0, 8.0], [72.0, 8.0]]\n"
     ]
    },
    {
     "name": "stderr",
     "output_type": "stream",
     "text": [
      "/var/folders/8y/kfr7p19526n0pv37z5nrv2980000gp/T/ipykernel_93342/2152843075.py:9: FutureWarning: The behavior of DataFrame concatenation with empty or all-NA entries is deprecated. In a future version, this will no longer exclude empty or all-NA columns when determining the result dtypes. To retain the old behavior, exclude the relevant entries before the concat operation.\n",
      "  chi2_results = pd.concat([chi2_results, pd.DataFrame({\n"
     ]
    }
   ],
   "source": [
    "chi2_results = pd.DataFrame(columns=['column', 'chi2', 'p-value', 'dof', 'expected'])\n",
    "\n",
    "# 计算卡方检验\n",
    "for categorical_column in categorical_columns:\n",
    "    # 创建列联表\n",
    "    contingency_table = pd.crosstab(data['group'], data[categorical_column])\n",
    "    chi2, p, dof, expected = chi2_contingency(contingency_table)\n",
    "    # 存储结果\n",
    "    chi2_results = pd.concat([chi2_results, pd.DataFrame({\n",
    "        'column': [categorical_column],\n",
    "        'chi2': [chi2],\n",
    "        'p-value': [p],\n",
    "        'dof': [dof],\n",
    "        'expected': [expected.tolist()]\n",
    "    })], ignore_index=True)\n",
    "\n",
    "# 打印卡方检验结果\n",
    "print(chi2_results)"
   ]
  },
  {
   "cell_type": "code",
   "execution_count": null,
   "id": "6d80996c",
   "metadata": {},
   "outputs": [],
   "source": []
  }
 ],
 "metadata": {
  "kernelspec": {
   "display_name": "Python 3 (ipykernel)",
   "language": "python",
   "name": "python3"
  },
  "language_info": {
   "codemirror_mode": {
    "name": "ipython",
    "version": 3
   },
   "file_extension": ".py",
   "mimetype": "text/x-python",
   "name": "python",
   "nbconvert_exporter": "python",
   "pygments_lexer": "ipython3",
   "version": "3.11.5"
  }
 },
 "nbformat": 4,
 "nbformat_minor": 5
}
